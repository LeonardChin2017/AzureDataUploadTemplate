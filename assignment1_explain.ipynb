{
  "cells": [
    {
      "cell_type": "markdown",
      "metadata": {
        "id": "view-in-github",
        "colab_type": "text"
      },
      "source": [
        "<a href=\"https://colab.research.google.com/github/LeonardChin2017/AzureDataUploadTemplate/blob/master/assignment1_explain.ipynb\" target=\"_parent\"><img src=\"https://colab.research.google.com/assets/colab-badge.svg\" alt=\"Open In Colab\"/></a>"
      ]
    },
    {
      "cell_type": "markdown",
      "metadata": {
        "id": "IjOZXM4o8ARu"
      },
      "source": [
        "# CS5242 assignment 1: Get started with PyTorch\n",
        "\n",
        "PyTorch is an open source machine learning framework on the [github](https://github.com/pytorch/pytorch). In this code tutorial we will learn the basic of PyTorch.\n",
        "\n",
        "You can use Colab/your personal GPUs/any other resources to run our experiments.\n",
        "\n",
        "In the case that you are not familiar with Colab: Colab is a hosted Jupyter notebook service that requires no setup to use, while providing access free of charge to computing resources including GPUs:\n",
        "1. Login Google Colab https://colab.research.google.com/\n",
        "2. In this assignment, We **need GPU** to training the CNN model. You may need to **choose GPU in Runtime -> Change runtime type -> Hardware accerator**\n",
        "\n",
        "> In this assignment, there is no need to use GPU.\n",
        "\n",
        "\n",
        "### **Grades**\n",
        "assignment 1 is composed of 10 points in all, consisting of several code completions and questions. For submission, you need to submit the notebook with output.\n",
        "\n",
        "15% off per day late\n",
        "\n",
        "0 score if you submit it 7 days after the deadline​\n",
        "\n",
        "### **Format**\n",
        "The question will be in the form:\n",
        "\n",
        "===> Question: What is deep learning?  \n",
        "===> Answer:  \n",
        "Your answer here.\n",
        "\n",
        "The code completion will be in the form:\n",
        "\n",
        "\\# === Complete the code\n",
        "\n",
        "\\# === Complete the code\n",
        "\n",
        "### **Contact**\n",
        "\n",
        "Please feel free to contact us if you have any question about this assignment or need any further information.\n",
        "\n",
        "TA Email: E1154541@u.nus.edu"
      ]
    },
    {
      "cell_type": "markdown",
      "metadata": {
        "id": "cjW6lJ2Q81N4"
      },
      "source": [
        "## Section 1: Environmental Setup\n",
        "\n",
        "First, we need to install the PyTorch and check the pytorch version."
      ]
    },
    {
      "cell_type": "code",
      "execution_count": 1,
      "metadata": {
        "colab": {
          "base_uri": "https://localhost:8080/",
          "height": 1000
        },
        "id": "QV9aoa5Q0OiH",
        "outputId": "f9aea6d3-9737-4f35-8548-8d54d229fa89"
      },
      "outputs": [
        {
          "output_type": "stream",
          "name": "stdout",
          "text": [
            "Requirement already satisfied: torch in /usr/local/lib/python3.11/dist-packages (2.6.0+cu124)\n",
            "Requirement already satisfied: filelock in /usr/local/lib/python3.11/dist-packages (from torch) (3.18.0)\n",
            "Requirement already satisfied: typing-extensions>=4.10.0 in /usr/local/lib/python3.11/dist-packages (from torch) (4.14.1)\n",
            "Requirement already satisfied: networkx in /usr/local/lib/python3.11/dist-packages (from torch) (3.5)\n",
            "Requirement already satisfied: jinja2 in /usr/local/lib/python3.11/dist-packages (from torch) (3.1.6)\n",
            "Requirement already satisfied: fsspec in /usr/local/lib/python3.11/dist-packages (from torch) (2025.3.0)\n",
            "Collecting nvidia-cuda-nvrtc-cu12==12.4.127 (from torch)\n",
            "  Downloading nvidia_cuda_nvrtc_cu12-12.4.127-py3-none-manylinux2014_x86_64.whl.metadata (1.5 kB)\n",
            "Collecting nvidia-cuda-runtime-cu12==12.4.127 (from torch)\n",
            "  Downloading nvidia_cuda_runtime_cu12-12.4.127-py3-none-manylinux2014_x86_64.whl.metadata (1.5 kB)\n",
            "Collecting nvidia-cuda-cupti-cu12==12.4.127 (from torch)\n",
            "  Downloading nvidia_cuda_cupti_cu12-12.4.127-py3-none-manylinux2014_x86_64.whl.metadata (1.6 kB)\n",
            "Collecting nvidia-cudnn-cu12==9.1.0.70 (from torch)\n",
            "  Downloading nvidia_cudnn_cu12-9.1.0.70-py3-none-manylinux2014_x86_64.whl.metadata (1.6 kB)\n",
            "Collecting nvidia-cublas-cu12==12.4.5.8 (from torch)\n",
            "  Downloading nvidia_cublas_cu12-12.4.5.8-py3-none-manylinux2014_x86_64.whl.metadata (1.5 kB)\n",
            "Collecting nvidia-cufft-cu12==11.2.1.3 (from torch)\n",
            "  Downloading nvidia_cufft_cu12-11.2.1.3-py3-none-manylinux2014_x86_64.whl.metadata (1.5 kB)\n",
            "Collecting nvidia-curand-cu12==10.3.5.147 (from torch)\n",
            "  Downloading nvidia_curand_cu12-10.3.5.147-py3-none-manylinux2014_x86_64.whl.metadata (1.5 kB)\n",
            "Collecting nvidia-cusolver-cu12==11.6.1.9 (from torch)\n",
            "  Downloading nvidia_cusolver_cu12-11.6.1.9-py3-none-manylinux2014_x86_64.whl.metadata (1.6 kB)\n",
            "Collecting nvidia-cusparse-cu12==12.3.1.170 (from torch)\n",
            "  Downloading nvidia_cusparse_cu12-12.3.1.170-py3-none-manylinux2014_x86_64.whl.metadata (1.6 kB)\n",
            "Requirement already satisfied: nvidia-cusparselt-cu12==0.6.2 in /usr/local/lib/python3.11/dist-packages (from torch) (0.6.2)\n",
            "Collecting nvidia-nccl-cu12==2.21.5 (from torch)\n",
            "  Downloading nvidia_nccl_cu12-2.21.5-py3-none-manylinux2014_x86_64.whl.metadata (1.8 kB)\n",
            "Requirement already satisfied: nvidia-nvtx-cu12==12.4.127 in /usr/local/lib/python3.11/dist-packages (from torch) (12.4.127)\n",
            "Collecting nvidia-nvjitlink-cu12==12.4.127 (from torch)\n",
            "  Downloading nvidia_nvjitlink_cu12-12.4.127-py3-none-manylinux2014_x86_64.whl.metadata (1.5 kB)\n",
            "Requirement already satisfied: triton==3.2.0 in /usr/local/lib/python3.11/dist-packages (from torch) (3.2.0)\n",
            "Requirement already satisfied: sympy==1.13.1 in /usr/local/lib/python3.11/dist-packages (from torch) (1.13.1)\n",
            "Requirement already satisfied: mpmath<1.4,>=1.1.0 in /usr/local/lib/python3.11/dist-packages (from sympy==1.13.1->torch) (1.3.0)\n",
            "Requirement already satisfied: MarkupSafe>=2.0 in /usr/local/lib/python3.11/dist-packages (from jinja2->torch) (3.0.2)\n",
            "Downloading nvidia_cublas_cu12-12.4.5.8-py3-none-manylinux2014_x86_64.whl (363.4 MB)\n",
            "\u001b[2K   \u001b[90m━━━━━━━━━━━━━━━━━━━━━━━━━━━━━━━━━━━━━━━━\u001b[0m \u001b[32m363.4/363.4 MB\u001b[0m \u001b[31m4.3 MB/s\u001b[0m eta \u001b[36m0:00:00\u001b[0m\n",
            "\u001b[?25hDownloading nvidia_cuda_cupti_cu12-12.4.127-py3-none-manylinux2014_x86_64.whl (13.8 MB)\n",
            "\u001b[2K   \u001b[90m━━━━━━━━━━━━━━━━━━━━━━━━━━━━━━━━━━━━━━━━\u001b[0m \u001b[32m13.8/13.8 MB\u001b[0m \u001b[31m106.9 MB/s\u001b[0m eta \u001b[36m0:00:00\u001b[0m\n",
            "\u001b[?25hDownloading nvidia_cuda_nvrtc_cu12-12.4.127-py3-none-manylinux2014_x86_64.whl (24.6 MB)\n",
            "\u001b[2K   \u001b[90m━━━━━━━━━━━━━━━━━━━━━━━━━━━━━━━━━━━━━━━━\u001b[0m \u001b[32m24.6/24.6 MB\u001b[0m \u001b[31m76.7 MB/s\u001b[0m eta \u001b[36m0:00:00\u001b[0m\n",
            "\u001b[?25hDownloading nvidia_cuda_runtime_cu12-12.4.127-py3-none-manylinux2014_x86_64.whl (883 kB)\n",
            "\u001b[2K   \u001b[90m━━━━━━━━━━━━━━━━━━━━━━━━━━━━━━━━━━━━━━━━\u001b[0m \u001b[32m883.7/883.7 kB\u001b[0m \u001b[31m59.6 MB/s\u001b[0m eta \u001b[36m0:00:00\u001b[0m\n",
            "\u001b[?25hDownloading nvidia_cudnn_cu12-9.1.0.70-py3-none-manylinux2014_x86_64.whl (664.8 MB)\n",
            "\u001b[2K   \u001b[90m━━━━━━━━━━━━━━━━━━━━━━━━━━━━━━━━━━━━━━━━\u001b[0m \u001b[32m664.8/664.8 MB\u001b[0m \u001b[31m1.3 MB/s\u001b[0m eta \u001b[36m0:00:00\u001b[0m\n",
            "\u001b[?25hDownloading nvidia_cufft_cu12-11.2.1.3-py3-none-manylinux2014_x86_64.whl (211.5 MB)\n",
            "\u001b[2K   \u001b[90m━━━━━━━━━━━━━━━━━━━━━━━━━━━━━━━━━━━━━━━━\u001b[0m \u001b[32m211.5/211.5 MB\u001b[0m \u001b[31m5.2 MB/s\u001b[0m eta \u001b[36m0:00:00\u001b[0m\n",
            "\u001b[?25hDownloading nvidia_curand_cu12-10.3.5.147-py3-none-manylinux2014_x86_64.whl (56.3 MB)\n",
            "\u001b[2K   \u001b[90m━━━━━━━━━━━━━━━━━━━━━━━━━━━━━━━━━━━━━━━━\u001b[0m \u001b[32m56.3/56.3 MB\u001b[0m \u001b[31m12.1 MB/s\u001b[0m eta \u001b[36m0:00:00\u001b[0m\n",
            "\u001b[?25hDownloading nvidia_cusolver_cu12-11.6.1.9-py3-none-manylinux2014_x86_64.whl (127.9 MB)\n",
            "\u001b[2K   \u001b[90m━━━━━━━━━━━━━━━━━━━━━━━━━━━━━━━━━━━━━━━━\u001b[0m \u001b[32m127.9/127.9 MB\u001b[0m \u001b[31m7.5 MB/s\u001b[0m eta \u001b[36m0:00:00\u001b[0m\n",
            "\u001b[?25hDownloading nvidia_cusparse_cu12-12.3.1.170-py3-none-manylinux2014_x86_64.whl (207.5 MB)\n",
            "\u001b[2K   \u001b[90m━━━━━━━━━━━━━━━━━━━━━━━━━━━━━━━━━━━━━━━━\u001b[0m \u001b[32m207.5/207.5 MB\u001b[0m \u001b[31m5.8 MB/s\u001b[0m eta \u001b[36m0:00:00\u001b[0m\n",
            "\u001b[?25hDownloading nvidia_nccl_cu12-2.21.5-py3-none-manylinux2014_x86_64.whl (188.7 MB)\n",
            "\u001b[2K   \u001b[90m━━━━━━━━━━━━━━━━━━━━━━━━━━━━━━━━━━━━━━━━\u001b[0m \u001b[32m188.7/188.7 MB\u001b[0m \u001b[31m6.0 MB/s\u001b[0m eta \u001b[36m0:00:00\u001b[0m\n",
            "\u001b[?25hDownloading nvidia_nvjitlink_cu12-12.4.127-py3-none-manylinux2014_x86_64.whl (21.1 MB)\n",
            "\u001b[2K   \u001b[90m━━━━━━━━━━━━━━━━━━━━━━━━━━━━━━━━━━━━━━━━\u001b[0m \u001b[32m21.1/21.1 MB\u001b[0m \u001b[31m80.6 MB/s\u001b[0m eta \u001b[36m0:00:00\u001b[0m\n",
            "\u001b[?25hInstalling collected packages: nvidia-nvjitlink-cu12, nvidia-nccl-cu12, nvidia-curand-cu12, nvidia-cufft-cu12, nvidia-cuda-runtime-cu12, nvidia-cuda-nvrtc-cu12, nvidia-cuda-cupti-cu12, nvidia-cublas-cu12, nvidia-cusparse-cu12, nvidia-cudnn-cu12, nvidia-cusolver-cu12\n",
            "  Attempting uninstall: nvidia-nvjitlink-cu12\n",
            "    Found existing installation: nvidia-nvjitlink-cu12 12.5.82\n",
            "    Uninstalling nvidia-nvjitlink-cu12-12.5.82:\n",
            "      Successfully uninstalled nvidia-nvjitlink-cu12-12.5.82\n",
            "  Attempting uninstall: nvidia-nccl-cu12\n",
            "    Found existing installation: nvidia-nccl-cu12 2.23.4\n",
            "    Uninstalling nvidia-nccl-cu12-2.23.4:\n",
            "      Successfully uninstalled nvidia-nccl-cu12-2.23.4\n",
            "  Attempting uninstall: nvidia-curand-cu12\n",
            "    Found existing installation: nvidia-curand-cu12 10.3.6.82\n",
            "    Uninstalling nvidia-curand-cu12-10.3.6.82:\n",
            "      Successfully uninstalled nvidia-curand-cu12-10.3.6.82\n",
            "  Attempting uninstall: nvidia-cufft-cu12\n",
            "    Found existing installation: nvidia-cufft-cu12 11.2.3.61\n",
            "    Uninstalling nvidia-cufft-cu12-11.2.3.61:\n",
            "      Successfully uninstalled nvidia-cufft-cu12-11.2.3.61\n",
            "  Attempting uninstall: nvidia-cuda-runtime-cu12\n",
            "    Found existing installation: nvidia-cuda-runtime-cu12 12.5.82\n",
            "    Uninstalling nvidia-cuda-runtime-cu12-12.5.82:\n",
            "      Successfully uninstalled nvidia-cuda-runtime-cu12-12.5.82\n",
            "  Attempting uninstall: nvidia-cuda-nvrtc-cu12\n",
            "    Found existing installation: nvidia-cuda-nvrtc-cu12 12.5.82\n",
            "    Uninstalling nvidia-cuda-nvrtc-cu12-12.5.82:\n",
            "      Successfully uninstalled nvidia-cuda-nvrtc-cu12-12.5.82\n",
            "  Attempting uninstall: nvidia-cuda-cupti-cu12\n",
            "    Found existing installation: nvidia-cuda-cupti-cu12 12.5.82\n",
            "    Uninstalling nvidia-cuda-cupti-cu12-12.5.82:\n",
            "      Successfully uninstalled nvidia-cuda-cupti-cu12-12.5.82\n",
            "  Attempting uninstall: nvidia-cublas-cu12\n",
            "    Found existing installation: nvidia-cublas-cu12 12.5.3.2\n",
            "    Uninstalling nvidia-cublas-cu12-12.5.3.2:\n",
            "      Successfully uninstalled nvidia-cublas-cu12-12.5.3.2\n",
            "  Attempting uninstall: nvidia-cusparse-cu12\n",
            "    Found existing installation: nvidia-cusparse-cu12 12.5.1.3\n",
            "    Uninstalling nvidia-cusparse-cu12-12.5.1.3:\n",
            "      Successfully uninstalled nvidia-cusparse-cu12-12.5.1.3\n",
            "  Attempting uninstall: nvidia-cudnn-cu12\n",
            "    Found existing installation: nvidia-cudnn-cu12 9.3.0.75\n",
            "    Uninstalling nvidia-cudnn-cu12-9.3.0.75:\n",
            "      Successfully uninstalled nvidia-cudnn-cu12-9.3.0.75\n",
            "  Attempting uninstall: nvidia-cusolver-cu12\n",
            "    Found existing installation: nvidia-cusolver-cu12 11.6.3.83\n",
            "    Uninstalling nvidia-cusolver-cu12-11.6.3.83:\n",
            "      Successfully uninstalled nvidia-cusolver-cu12-11.6.3.83\n",
            "Successfully installed nvidia-cublas-cu12-12.4.5.8 nvidia-cuda-cupti-cu12-12.4.127 nvidia-cuda-nvrtc-cu12-12.4.127 nvidia-cuda-runtime-cu12-12.4.127 nvidia-cudnn-cu12-9.1.0.70 nvidia-cufft-cu12-11.2.1.3 nvidia-curand-cu12-10.3.5.147 nvidia-cusolver-cu12-11.6.1.9 nvidia-cusparse-cu12-12.3.1.170 nvidia-nccl-cu12-2.21.5 nvidia-nvjitlink-cu12-12.4.127\n"
          ]
        },
        {
          "output_type": "execute_result",
          "data": {
            "text/plain": [
              "'2.6.0+cu124'"
            ],
            "application/vnd.google.colaboratory.intrinsic+json": {
              "type": "string"
            }
          },
          "metadata": {},
          "execution_count": 1
        }
      ],
      "source": [
        "!pip3 install torch\n",
        "\n",
        "import torch\n",
        "torch.__version__"
      ]
    },
    {
      "cell_type": "markdown",
      "metadata": {
        "id": "tT09jYu-9ecO"
      },
      "source": [
        "Here are some routines for importing and setting up torch."
      ]
    },
    {
      "cell_type": "code",
      "execution_count": 2,
      "metadata": {
        "colab": {
          "base_uri": "https://localhost:8080/"
        },
        "id": "oMPTE7J01v-p",
        "outputId": "e21cbf12-7124-4dde-f097-f40781dca6c7"
      },
      "outputs": [
        {
          "output_type": "execute_result",
          "data": {
            "text/plain": [
              "<torch._C.Generator at 0x7e9f4af3f5d0>"
            ]
          },
          "metadata": {},
          "execution_count": 2
        }
      ],
      "source": [
        "# frequently used import\n",
        "import torch\n",
        "import torch.nn as nn\n",
        "import torch.nn.functional as F\n",
        "import numpy as np\n",
        "import random\n",
        "import matplotlib.pyplot as plt\n",
        "\n",
        "# fix the random number so that the experiments are reproducible\n",
        "random.seed(0)\n",
        "np.random.seed(0)\n",
        "torch.manual_seed(0)"
      ]
    },
    {
      "cell_type": "markdown",
      "metadata": {
        "id": "TeVi4BmJ-cI-"
      },
      "source": [
        "The best referrence for pytorch is its [document](https://pytorch.org/docs/stable/index.html). PyTorch is well-known for a good community.\n",
        "\n",
        "Now let's setup the GPU environment. The colab provides a free GPU to use. Do as follows:\n",
        "\n",
        "- Runtime -> Change Runtime Type -> select `GPU` in Hardware accelerator\n",
        "- Click `connect` on the top-right\n",
        "\n",
        "After connecting to one GPU, you can check its status using `nvidia-smi` command."
      ]
    },
    {
      "cell_type": "code",
      "execution_count": 3,
      "metadata": {
        "colab": {
          "base_uri": "https://localhost:8080/"
        },
        "id": "Zd4WVQP6-Anp",
        "outputId": "13f14f10-7e71-4e20-a72c-aa27fbc5e5c3"
      },
      "outputs": [
        {
          "output_type": "stream",
          "name": "stdout",
          "text": [
            "Sat Aug 16 08:28:12 2025       \n",
            "+-----------------------------------------------------------------------------------------+\n",
            "| NVIDIA-SMI 550.54.15              Driver Version: 550.54.15      CUDA Version: 12.4     |\n",
            "|-----------------------------------------+------------------------+----------------------+\n",
            "| GPU  Name                 Persistence-M | Bus-Id          Disp.A | Volatile Uncorr. ECC |\n",
            "| Fan  Temp   Perf          Pwr:Usage/Cap |           Memory-Usage | GPU-Util  Compute M. |\n",
            "|                                         |                        |               MIG M. |\n",
            "|=========================================+========================+======================|\n",
            "|   0  Tesla T4                       Off |   00000000:00:04.0 Off |                    0 |\n",
            "| N/A   38C    P8              9W /   70W |       0MiB /  15360MiB |      0%      Default |\n",
            "|                                         |                        |                  N/A |\n",
            "+-----------------------------------------+------------------------+----------------------+\n",
            "                                                                                         \n",
            "+-----------------------------------------------------------------------------------------+\n",
            "| Processes:                                                                              |\n",
            "|  GPU   GI   CI        PID   Type   Process name                              GPU Memory |\n",
            "|        ID   ID                                                               Usage      |\n",
            "|=========================================================================================|\n",
            "|  No running processes found                                                             |\n",
            "+-----------------------------------------------------------------------------------------+\n"
          ]
        }
      ],
      "source": [
        "!nvidia-smi"
      ]
    },
    {
      "cell_type": "markdown",
      "metadata": {
        "id": "nVKG11x__bwn"
      },
      "source": [
        "Here, you can see the memory and memory usage of the applied GPU. For my case, the applied one is a Tesla T4. The GPU applied may be different, but it is ok for our experiments.\n",
        "\n",
        "Now let's create tensor, which is the basic element in PyTorch."
      ]
    },
    {
      "cell_type": "code",
      "execution_count": null,
      "metadata": {
        "colab": {
          "base_uri": "https://localhost:8080/"
        },
        "id": "fh8esjGD_Zgk",
        "outputId": "341f8655-2b44-43fc-c24b-7fb26c6c0f31"
      },
      "outputs": [
        {
          "output_type": "stream",
          "name": "stdout",
          "text": [
            "x1: tensor(1.)\n",
            "x2: tensor(1., device='cuda:0')\n",
            "x3: tensor(1., device='cuda:0', grad_fn=<ToCopyBackward0>)\n"
          ]
        }
      ],
      "source": [
        "x1 = torch.tensor(1.0) # tensor on CPU\n",
        "x2 = torch.tensor(1.0, device=\"cuda:0\") # tensor on GPU\n",
        "x3 = torch.tensor(1.0, requires_grad=True).cuda() # tensor on GPU and require grad\n",
        "print(\"x1:\", x1)\n",
        "print(\"x2:\", x2)\n",
        "print(\"x3:\", x3)"
      ]
    },
    {
      "cell_type": "code",
      "execution_count": null,
      "metadata": {
        "colab": {
          "base_uri": "https://localhost:8080/"
        },
        "id": "8mvQwUf0bxK6",
        "outputId": "097b2829-1765-4a0c-ba6f-c5336f1799e4"
      },
      "outputs": [
        {
          "output_type": "stream",
          "name": "stdout",
          "text": [
            "tensor(1.)\n",
            "torch.Size([])\n",
            "torch.float32\n",
            "cpu\n",
            "False\n"
          ]
        }
      ],
      "source": [
        "x = torch.tensor(1.0)\n",
        "print(x)\n",
        "print(x.shape)\n",
        "print(x.dtype)\n",
        "print(x.device)\n",
        "print(x.requires_grad)"
      ]
    },
    {
      "cell_type": "code",
      "execution_count": null,
      "metadata": {
        "colab": {
          "base_uri": "https://localhost:8080/"
        },
        "id": "ZPWHROCbbxK6",
        "outputId": "aa1ce85f-2569-4e34-97ab-543c0b5de075"
      },
      "outputs": [
        {
          "output_type": "stream",
          "name": "stdout",
          "text": [
            "tensor(2., grad_fn=<AddBackward0>)\n",
            "<AddBackward0 object at 0x7c87454079d0>\n",
            "None\n"
          ]
        },
        {
          "output_type": "stream",
          "name": "stderr",
          "text": [
            "/tmp/ipython-input-4193765114.py:5: UserWarning: The .grad attribute of a Tensor that is not a leaf Tensor is being accessed. Its .grad attribute won't be populated during autograd.backward(). If you indeed want the .grad field to be populated for a non-leaf Tensor, use .retain_grad() on the non-leaf Tensor. If you access the non-leaf Tensor by mistake, make sure you access the leaf Tensor instead. See github.com/pytorch/pytorch/pull/30531 for more informations. (Triggered internally at /pytorch/build/aten/src/ATen/core/TensorBody.h:489.)\n",
            "  print(y.grad)\n"
          ]
        }
      ],
      "source": [
        "x.requires_grad_()\n",
        "y = x + 1\n",
        "print(y)\n",
        "print(y.grad_fn)\n",
        "print(y.grad)"
      ]
    },
    {
      "cell_type": "markdown",
      "metadata": {
        "id": "aQQbaMIPBX_r"
      },
      "source": [
        "## Section 2: Basic Usage"
      ]
    },
    {
      "cell_type": "code",
      "execution_count": null,
      "metadata": {
        "colab": {
          "base_uri": "https://localhost:8080/"
        },
        "id": "nMrDE_L6Afkx",
        "outputId": "c13fcc18-2b14-4cbc-f753-bd409041e5c0"
      },
      "outputs": [
        {
          "output_type": "stream",
          "name": "stdout",
          "text": [
            "tensor(4.)\n",
            "tensor(2.)\n",
            "tensor(2.)\n"
          ]
        }
      ],
      "source": [
        "# 2.1: Use autograd to calculate gradients\n",
        "\n",
        "# Create tensors.\n",
        "x = torch.tensor(1., requires_grad=True)\n",
        "w = torch.tensor(2., requires_grad=True)\n",
        "b = torch.tensor(3., requires_grad=True)\n",
        "y = torch.tensor(4.)\n",
        "\n",
        "# Build a computational graph.\n",
        "pred = w * x + b\n",
        "L = (pred - y)**2\n",
        "\n",
        "# Compute gradients.\n",
        "# === Complete the code (0.5')\n",
        "L.backward()\n",
        "# === Complete the code\n",
        "\n",
        "# Print out the gradients.\n",
        "print(x.grad)\n",
        "print(w.grad)\n",
        "print(b.grad)"
      ]
    },
    {
      "cell_type": "code",
      "execution_count": null,
      "metadata": {
        "colab": {
          "base_uri": "https://localhost:8080/"
        },
        "id": "yfGXyGNRIfzk",
        "outputId": "65bcbebb-5a47-49be-9f52-466f1a93c417"
      },
      "outputs": [
        {
          "output_type": "stream",
          "name": "stdout",
          "text": [
            "tensor(1.9800, requires_grad=True)\n",
            "tensor(2.9800, requires_grad=True)\n",
            "tensor(0.9216, grad_fn=<PowBackward0>)\n"
          ]
        }
      ],
      "source": [
        "# 2.2 update parameters by gradient descent\n",
        "\n",
        "# we want to update parameters w and b\n",
        "lr = 0.01\n",
        "\n",
        "# 1-step gradient descent\n",
        "# === Complete the code (0.5')\n",
        "with torch.no_grad():\n",
        "    w -= lr * w.grad\n",
        "    b -= lr * b.grad\n",
        "\n",
        "    w.grad.zero_()\n",
        "    b.grad.zero_()\n",
        "# === Complete the code\n",
        "\n",
        "# current loss\n",
        "pred = w * x + b\n",
        "L = (pred - y)**2\n",
        "\n",
        "print(w)\n",
        "print(b)\n",
        "print(L)"
      ]
    },
    {
      "cell_type": "code",
      "execution_count": null,
      "metadata": {
        "colab": {
          "base_uri": "https://localhost:8080/"
        },
        "id": "BhtTMooZK5gU",
        "outputId": "c99e0cec-5e14-40ec-f499-e44774245a81"
      },
      "outputs": [
        {
          "output_type": "stream",
          "name": "stdout",
          "text": [
            "tensor(1.8914, requires_grad=True)\n",
            "tensor(2.8914, requires_grad=True)\n",
            "tensor(0.6648, grad_fn=<PowBackward0>)\n"
          ]
        }
      ],
      "source": [
        "# 2.3 update parameters by optimizer\n",
        "\n",
        "# Use SGD optimizer\n",
        "optimizer = torch.optim.SGD([w, b], lr=0.01)\n",
        "\n",
        "# 5-step gradient descent.\n",
        "for t in range(5):\n",
        "  pred = w * x + b\n",
        "  L = (pred - y)**2\n",
        "  optimizer.zero_grad()\n",
        "  # === Complete the code (0.5')\n",
        "  L.backward()\n",
        "  optimizer.step()\n",
        "  # === Complete the code\n",
        "\n",
        "print(w)\n",
        "print(b)\n",
        "print(L)"
      ]
    },
    {
      "cell_type": "markdown",
      "metadata": {
        "id": "26UwTeMmNZ1v"
      },
      "source": [
        "===> Question: Why do we need `optimizer.zero_grad()`? (0.5) What happens if we do not `zero_grad` in each step? (0.5')  \n",
        "===> Answer:\n",
        "\n",
        "We need optimizer.zero_grad() because in PyTorch, gradients accumulate by default. Each time you call L.backward(), the new gradients are added to the existing ones stored in w.grad and b.grad.\n",
        "\n",
        "If we do not zero_grad in each step, the gradients from previous iterations will keep piling up, leading to wrong updates (the optimizer will think the slope is much larger than it actually is). This makes training unstable and the parameters (w, b) will not move in the correct direction.\n",
        "\n",
        "\n",
        "===> Question: What's the meaning of `grad_fn=<PowBackward0>`? (0.5')  \n",
        "===> Answer:\n",
        "grad_fn=<PowBackward0> means that the tensor you see was created as the result of a power operation—in your case squaring (pred - y)**2—and PyTorch’s autograd system has attached a “backward function” to it so it knows how to compute gradients during backpropagation. In other words, instead of just being a plain number, this tensor carries with it a record of how it was produced, and the tag <PowBackward0> tells autograd, “when someone calls .backward(), I know the rule for differentiating a power operation and can propagate the gradient correctly through this part of the computation graph.”"
      ]
    },
    {
      "cell_type": "code",
      "execution_count": null,
      "metadata": {
        "colab": {
          "base_uri": "https://localhost:8080/"
        },
        "id": "4Nfs1aLuK8Dw",
        "outputId": "3451a8e4-8c84-4603-fc0c-ea6780c5a8c4"
      },
      "outputs": [
        {
          "output_type": "stream",
          "name": "stdout",
          "text": [
            "tensor([[9.3555e+08, 4.4672e-41, 7.5876e-13],\n",
            "        [0.0000e+00, 4.4842e-44, 0.0000e+00]])\n",
            "tensor([[0, 0, 0],\n",
            "        [0, 0, 0]])\n",
            "tensor([[0.4963, 0.7682, 0.0885],\n",
            "        [0.1320, 0.3074, 0.6341]])\n",
            "tensor([[ 1.2645, -0.6874,  0.1604],\n",
            "        [-0.6065, -0.7831,  1.0622]])\n",
            "tensor([[1, 2],\n",
            "        [3, 4]])\n",
            "[[1 2]\n",
            " [3 4]]\n"
          ]
        }
      ],
      "source": [
        "# 2.4 create tensors\n",
        "\n",
        "shape = (2, 3)\n",
        "\n",
        "# create an empty tensor\n",
        "x = torch.empty(shape)\n",
        "print(x)\n",
        "\n",
        "# create a full-zero tensor with type long\n",
        "# === Complete the code (0.5')\n",
        "x = torch.zeros(shape, dtype=torch.long)\n",
        "# === Complete the code\n",
        "print(x)\n",
        "\n",
        "# create a a tensor filled with random numbers from\n",
        "# a uniform distribution on the interval [0, 1)\n",
        "# === Complete the code (0.5')\n",
        "x = torch.rand(shape)\n",
        "# === Complete the code\n",
        "print(x)\n",
        "\n",
        "# create a tensor filled with random numbers from a standard normal distribution\n",
        "# === Complete the code (0.5')\n",
        "x = torch.randn(shape)\n",
        "# === Complete the code\n",
        "print(x)\n",
        "\n",
        "# create a tensor from numpy\n",
        "x = np.array([[1, 2], [3, 4]])\n",
        "# === Complete the code (0.5')\n",
        "x = torch.from_numpy(x)\n",
        "# === Complete the code\n",
        "print(x)\n",
        "\n",
        "# convert a tensor to numpy\n",
        "x = x.numpy()\n",
        "print(x)"
      ]
    },
    {
      "cell_type": "code",
      "execution_count": null,
      "metadata": {
        "colab": {
          "base_uri": "https://localhost:8080/"
        },
        "id": "nsj3pdawPs5o",
        "outputId": "324711b2-3eec-44b2-ef54-8145ac56d73a"
      },
      "outputs": [
        {
          "output_type": "stream",
          "name": "stdout",
          "text": [
            "w:  Parameter containing:\n",
            "tensor([[ 0.5431,  0.3890, -0.2517],\n",
            "        [-0.1453, -0.5500, -0.0104]], requires_grad=True)\n",
            "b:  Parameter containing:\n",
            "tensor([-0.4348, -0.4453], requires_grad=True)\n",
            "loss:  2.650336503982544\n",
            "dL/dw:  tensor([[ 1.0951,  0.9776, -1.2607],\n",
            "        [ 0.0268, -1.7639, -0.2130]])\n",
            "dL/db:  tensor([-0.3936, -1.1098])\n"
          ]
        }
      ],
      "source": [
        "# 2.5 gradient of matrix and vector\n",
        "\n",
        "# Create tensors of shape (10, 3) and (10, 2).\n",
        "x = torch.randn(10, 3)\n",
        "y = torch.randn(10, 2)\n",
        "\n",
        "# Build a fully connected layer.\n",
        "linear = nn.Linear(3, 2)\n",
        "print ('w: ', linear.weight)\n",
        "print ('b: ', linear.bias)\n",
        "\n",
        "# Build loss function and optimizer.\n",
        "criterion = nn.MSELoss()\n",
        "\n",
        "# Forward pass.\n",
        "pred = linear(x)\n",
        "\n",
        "# Compute loss.\n",
        "# === Complete the code (0.5')\n",
        "loss = criterion(pred, y)\n",
        "# === Complete the code\n",
        "print('loss: ', loss.item())\n",
        "\n",
        "# Backward pass.\n",
        "loss.backward()\n",
        "\n",
        "# Print out the gradients.\n",
        "# === Complete the code (0.5')\n",
        "print ('dL/dw: ', linear.weight.grad)\n",
        "print ('dL/db: ', linear.bias.grad)\n",
        "# === Complete the code"
      ]
    },
    {
      "cell_type": "markdown",
      "metadata": {
        "id": "5Jmln-rJUTbq"
      },
      "source": [
        "===> Question : What is the function of the above code? Do a shape check for the gradient computation above. (0.5')  \n",
        "===> Answer:\n",
        "The function of the code is to build a simple fully connected linear layer, run a forward pass with input x, compute the mean squared error loss against target y, and then use autograd to calculate the gradients of the loss with respect to the layer’s weights and biases. For the shape check: the weight has shape (2, 3) since the layer maps 3 inputs to 2 outputs, and therefore the gradient dL/dw also has shape (2, 3); the bias has shape (2,), so the gradient dL/db also has shape (2,)."
      ]
    },
    {
      "cell_type": "markdown",
      "source": [],
      "metadata": {
        "id": "epHFhmwyrBNi"
      }
    },
    {
      "cell_type": "markdown",
      "metadata": {
        "id": "gxHzvhMseEQI"
      },
      "source": [
        "## Section 3: Linear Regression\n"
      ]
    },
    {
      "cell_type": "code",
      "execution_count": null,
      "metadata": {
        "id": "2QS90Mv4T03n"
      },
      "outputs": [],
      "source": [
        "# Hyper-parameters\n",
        "input_size = 1\n",
        "output_size = 1\n",
        "\n",
        "# Toy dataset\n",
        "x_train = np.array([[3.2], [4.1], [5.6], [7.69], [6.3], [4.112],\n",
        "                    [9.79], [5.182], [6.59], [3.167], [7.042],\n",
        "                    [10.921], [5.268], [7.9], [3.0]], dtype=np.float32)\n",
        "\n",
        "y_train = np.array([[1.7], [2.76], [2.09], [3.19], [1.694], [1.573],\n",
        "                    [3.366], [2.596], [2.53], [1.221], [2.827],\n",
        "                    [3.465], [1.65], [2.904], [1.3]], dtype=np.float32)"
      ]
    },
    {
      "cell_type": "code",
      "execution_count": null,
      "metadata": {
        "id": "7dhHzTVaePXF"
      },
      "outputs": [],
      "source": [
        "def main(learning_rate=0.001, num_epochs = 60):\n",
        "  # Linear regression model\n",
        "  model = nn.Linear(input_size, output_size)\n",
        "\n",
        "  # Loss and optimizer\n",
        "  criterion = nn.MSELoss()\n",
        "\n",
        "  # Create SGD optimizer from torch\n",
        "  # Hint: check manual for model.parameters\n",
        "  # === Complete the code (0.5')\n",
        "  optimizer = torch.optim.SGD(model.parameters(), lr=learning_rate)\n",
        "  # === Complete the code\n",
        "\n",
        "  # Train the model\n",
        "  for epoch in range(num_epochs):\n",
        "      # Convert numpy arrays to torch tensors\n",
        "      inputs = torch.from_numpy(x_train)\n",
        "      targets = torch.from_numpy(y_train)\n",
        "\n",
        "      # Forward pass\n",
        "      # === Complete the code (1')\n",
        "      outputs = model(inputs)\n",
        "      loss = criterion(outputs, targets)\n",
        "      # === Complete the code\n",
        "\n",
        "      # Backward and optimize\n",
        "      # === Complete the code (1')\n",
        "      optimizer.zero_grad()\n",
        "      loss.backward()\n",
        "      optimizer.step()\n",
        "      # === Complete the code\n",
        "\n",
        "      if (epoch+1) % 5 == 0:\n",
        "          print ('Epoch [{}/{}], Loss: {:.4f}'.format(epoch+1, num_epochs, loss.item()))\n",
        "\n",
        "  # Plot the graph\n",
        "  predicted = model(torch.from_numpy(x_train)).detach().numpy()\n",
        "  plt.plot(x_train, y_train, 'ro', label='Original data')\n",
        "  plt.plot(x_train, predicted, label='Fitted line')\n",
        "  plt.legend()\n",
        "  plt.show()"
      ]
    },
    {
      "cell_type": "code",
      "execution_count": null,
      "metadata": {
        "colab": {
          "base_uri": "https://localhost:8080/",
          "height": 649
        },
        "id": "ACWgdcIWeU01",
        "outputId": "23a5f6a5-ec97-4547-a487-2c45eaa62723"
      },
      "outputs": [
        {
          "output_type": "stream",
          "name": "stdout",
          "text": [
            "Epoch [5/60], Loss: 3.5557\n",
            "Epoch [10/60], Loss: 1.5880\n",
            "Epoch [15/60], Loss: 0.7714\n",
            "Epoch [20/60], Loss: 0.4324\n",
            "Epoch [25/60], Loss: 0.2917\n",
            "Epoch [30/60], Loss: 0.2333\n",
            "Epoch [35/60], Loss: 0.2090\n",
            "Epoch [40/60], Loss: 0.1988\n",
            "Epoch [45/60], Loss: 0.1946\n",
            "Epoch [50/60], Loss: 0.1928\n",
            "Epoch [55/60], Loss: 0.1920\n",
            "Epoch [60/60], Loss: 0.1916\n"
          ]
        },
        {
          "output_type": "display_data",
          "data": {
            "text/plain": [
              "<Figure size 640x480 with 1 Axes>"
            ],
            "image/png": "[encoded data removed]"
          },
          "metadata": {}
        }
      ],
      "source": [
        "main()"
      ]
    },
    {
      "cell_type": "markdown",
      "metadata": {
        "id": "6wWicEaIfYMJ"
      },
      "source": [
        "Now let's investigate into how learning rate affects the training process. (1')\n",
        "\n",
        "===> Question: Experiments with different learning rates and num_epochs.   \n",
        "When will the training diverges? What's your suggested value for the learning rate?   \n",
        "Justify your answer by running more experiments (leaving the results in the notebook).     \n",
        "===> Answer:"
      ]
    },
    {
      "cell_type": "code",
      "execution_count": null,
      "metadata": {
        "colab": {
          "base_uri": "https://localhost:8080/",
          "height": 649
        },
        "id": "d31POxIKeaQV",
        "outputId": "a45bf853-7274-495f-933c-08eb3da8a40d"
      },
      "outputs": [
        {
          "output_type": "stream",
          "name": "stdout",
          "text": [
            "Epoch [5/60], Loss: 18.8152\n",
            "Epoch [10/60], Loss: 17.3028\n",
            "Epoch [15/60], Loss: 15.9129\n",
            "Epoch [20/60], Loss: 14.6358\n",
            "Epoch [25/60], Loss: 13.4621\n",
            "Epoch [30/60], Loss: 12.3837\n",
            "Epoch [35/60], Loss: 11.3926\n",
            "Epoch [40/60], Loss: 10.4819\n",
            "Epoch [45/60], Loss: 9.6450\n",
            "Epoch [50/60], Loss: 8.8760\n",
            "Epoch [55/60], Loss: 8.1693\n",
            "Epoch [60/60], Loss: 7.5200\n"
          ]
        },
        {
          "output_type": "display_data",
          "data": {
            "text/plain": [
              "<Figure size 640x480 with 1 Axes>"
            ],
            "image/png": "[encoded data removed]"
          },
          "metadata": {}
        }
      ],
      "source": [
        "# Try 1:\n",
        "main(learning_rate=0.0001, num_epochs=60)"
      ]
    },
    {
      "cell_type": "code",
      "execution_count": null,
      "metadata": {
        "id": "rDxFC0ZzhM2_",
        "colab": {
          "base_uri": "https://localhost:8080/",
          "height": 649
        },
        "outputId": "32a09e67-c554-4dab-d230-ad09942629aa"
      },
      "outputs": [
        {
          "output_type": "stream",
          "name": "stdout",
          "text": [
            "Epoch [5/60], Loss: 0.1716\n",
            "Epoch [10/60], Loss: 0.1712\n",
            "Epoch [15/60], Loss: 0.1709\n",
            "Epoch [20/60], Loss: 0.1706\n",
            "Epoch [25/60], Loss: 0.1704\n",
            "Epoch [30/60], Loss: 0.1701\n",
            "Epoch [35/60], Loss: 0.1698\n",
            "Epoch [40/60], Loss: 0.1695\n",
            "Epoch [45/60], Loss: 0.1693\n",
            "Epoch [50/60], Loss: 0.1690\n",
            "Epoch [55/60], Loss: 0.1688\n",
            "Epoch [60/60], Loss: 0.1685\n"
          ]
        },
        {
          "output_type": "display_data",
          "data": {
            "text/plain": [
              "<Figure size 640x480 with 1 Axes>"
            ],
            "image/png": "[encoded data removed]"
          },
          "metadata": {}
        }
      ],
      "source": [
        "# Try 2:\n",
        "main(learning_rate=0.01, num_epochs=60)"
      ]
    },
    {
      "cell_type": "code",
      "execution_count": null,
      "metadata": {
        "colab": {
          "base_uri": "https://localhost:8080/",
          "height": 649
        },
        "id": "LN3u7GxVbxK8",
        "outputId": "3987ac77-83f9-40e1-f8de-853471161782"
      },
      "outputs": [
        {
          "output_type": "stream",
          "name": "stdout",
          "text": [
            "Epoch [5/60], Loss: 13582782.0000\n",
            "Epoch [10/60], Loss: 6861234951421952.0000\n",
            "Epoch [15/60], Loss: 3465895909787286579970048.0000\n",
            "Epoch [20/60], Loss: 1750770163157276282286575961767936.0000\n",
            "Epoch [25/60], Loss: inf\n",
            "Epoch [30/60], Loss: inf\n",
            "Epoch [35/60], Loss: inf\n",
            "Epoch [40/60], Loss: inf\n",
            "Epoch [45/60], Loss: inf\n",
            "Epoch [50/60], Loss: nan\n",
            "Epoch [55/60], Loss: nan\n",
            "Epoch [60/60], Loss: nan\n"
          ]
        },
        {
          "output_type": "display_data",
          "data": {
            "text/plain": [
              "<Figure size 640x480 with 1 Axes>"
            ],
            "image/png": "[encoded data removed]"
          },
          "metadata": {}
        }
      ],
      "source": [
        "# Try 3:\n",
        "main(learning_rate=0.1, num_epochs=60)"
      ]
    },
    {
      "cell_type": "code",
      "execution_count": null,
      "metadata": {
        "colab": {
          "base_uri": "https://localhost:8080/",
          "height": 649
        },
        "id": "VUJ39LZ3bxK8",
        "outputId": "6f93abb9-20e4-451c-cc45-149b10df033d"
      },
      "outputs": [
        {
          "output_type": "stream",
          "name": "stdout",
          "text": [
            "Epoch [5/60], Loss: 126878115430400.0000\n",
            "Epoch [10/60], Loss: 1742770234363519909790683758592.0000\n",
            "Epoch [15/60], Loss: inf\n",
            "Epoch [20/60], Loss: inf\n",
            "Epoch [25/60], Loss: inf\n",
            "Epoch [30/60], Loss: nan\n",
            "Epoch [35/60], Loss: nan\n",
            "Epoch [40/60], Loss: nan\n",
            "Epoch [45/60], Loss: nan\n",
            "Epoch [50/60], Loss: nan\n",
            "Epoch [55/60], Loss: nan\n",
            "Epoch [60/60], Loss: nan\n"
          ]
        },
        {
          "output_type": "display_data",
          "data": {
            "text/plain": [
              "<Figure size 640x480 with 1 Axes>"
            ],
            "image/png": "[encoded data removed]"
          },
          "metadata": {}
        }
      ],
      "source": [
        "# Try 4:\n",
        "main(learning_rate=0.5, num_epochs=60)"
      ]
    },
    {
      "cell_type": "code",
      "execution_count": null,
      "metadata": {
        "id": "_reJQy4gbxK8"
      },
      "outputs": [],
      "source": [
        "# you can run more tries or delete some tries above. After getting your conclusion, please write your answer in the following cell."
      ]
    },
    {
      "cell_type": "code",
      "execution_count": null,
      "metadata": {
        "id": "8Eh7ONhebxK8"
      },
      "outputs": [],
      "source": []
    }
  ],
  "metadata": {
    "accelerator": "GPU",
    "colab": {
      "provenance": [],
      "include_colab_link": true
    },
    "gpuClass": "standard",
    "kernelspec": {
      "display_name": "Python 3",
      "name": "python3"
    },
    "language_info": {
      "name": "python"
    }
  },
  "nbformat": 4,
  "nbformat_minor": 0
}